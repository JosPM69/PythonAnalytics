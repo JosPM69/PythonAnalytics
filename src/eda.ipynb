{
 "cells": [
  {
   "cell_type": "code",
   "execution_count": 1,
   "metadata": {},
   "outputs": [],
   "source": [
    "#Importando las librerías necesarias\n",
    "import pandas as pd\n",
    "import numpy as np\n",
    "import matplotlib.pyplot as plt\n",
    "import pandas_profiling as pp"
   ]
  },
  {
   "cell_type": "code",
   "execution_count": 2,
   "metadata": {},
   "outputs": [],
   "source": [
    "#Como trabajamos con Visual, esta línea imprime los gráficos\n",
    "%matplotlib inline"
   ]
  },
  {
   "cell_type": "code",
   "execution_count": 3,
   "metadata": {},
   "outputs": [
    {
     "data": {
      "text/plain": [
       "(62642, 29)"
      ]
     },
     "execution_count": 3,
     "metadata": {},
     "output_type": "execute_result"
    }
   ],
   "source": [
    "#Leyendo la data\n",
    "df_salary = pd.read_csv('../data/Salary_data.csv')\n",
    "df_salary.shape "
   ]
  },
  {
   "cell_type": "code",
   "execution_count": 4,
   "metadata": {},
   "outputs": [
    {
     "name": "stderr",
     "output_type": "stream",
     "text": [
      "Summarize dataset: 100%|██████████| 35/35 [00:00<00:00, 56.22it/s, Completed]                               \n",
      "Generate report structure: 100%|██████████| 1/1 [00:04<00:00,  4.80s/it]\n",
      "Render HTML: 100%|██████████| 1/1 [00:00<00:00,  1.18it/s]\n",
      "Export report to file: 100%|██████████| 1/1 [00:00<00:00, 249.93it/s]\n"
     ]
    }
   ],
   "source": [
    "#Generando un reporte de la data sin procesar\n",
    "profile = pp.ProfileReport(df_salary, title='Pandas Profiling Report', minimal=True)\n",
    "profile.to_file('../data/reports/Raw_data.html')"
   ]
  },
  {
   "cell_type": "code",
   "execution_count": 5,
   "metadata": {},
   "outputs": [
    {
     "data": {
      "text/plain": [
       "Index(['timestamp', 'company', 'level', 'title', 'totalyearlycompensation',\n",
       "       'location', 'yearsofexperience', 'yearsatcompany', 'tag', 'basesalary',\n",
       "       'stockgrantvalue', 'bonus', 'gender', 'otherdetails', 'cityid', 'dmaid',\n",
       "       'rowNumber', 'Masters_Degree', 'Bachelors_Degree', 'Doctorate_Degree',\n",
       "       'Highschool', 'Some_College', 'Race_Asian', 'Race_White',\n",
       "       'Race_Two_Or_More', 'Race_Black', 'Race_Hispanic', 'Race', 'Education'],\n",
       "      dtype='object')"
      ]
     },
     "execution_count": 5,
     "metadata": {},
     "output_type": "execute_result"
    }
   ],
   "source": [
    "df_salary.columns #Observamos los nombres de sus columnas"
   ]
  },
  {
   "cell_type": "code",
   "execution_count": 6,
   "metadata": {},
   "outputs": [],
   "source": [
    "#Seleccionamos las columnas con las que trabajaremos\n",
    "selected_columns = ['company','totalyearlycompensation','basesalary','gender','Race','Education']"
   ]
  },
  {
   "cell_type": "code",
   "execution_count": 7,
   "metadata": {},
   "outputs": [
    {
     "data": {
      "text/plain": [
       "(62642, 6)"
      ]
     },
     "execution_count": 7,
     "metadata": {},
     "output_type": "execute_result"
    }
   ],
   "source": [
    "#Creamos una nueva tabla para trabajar con ella\n",
    "df = df_salary[selected_columns].copy()\n",
    "df.shape"
   ]
  },
  {
   "cell_type": "code",
   "execution_count": 8,
   "metadata": {},
   "outputs": [
    {
     "data": {
      "text/plain": [
       "company                        5\n",
       "totalyearlycompensation        0\n",
       "basesalary                     0\n",
       "gender                     19540\n",
       "Race                       40215\n",
       "Education                  32272\n",
       "dtype: int64"
      ]
     },
     "execution_count": 8,
     "metadata": {},
     "output_type": "execute_result"
    }
   ],
   "source": [
    "df.isnull().sum()"
   ]
  },
  {
   "cell_type": "code",
   "execution_count": 9,
   "metadata": {},
   "outputs": [
    {
     "data": {
      "text/plain": [
       "company                    0\n",
       "totalyearlycompensation    0\n",
       "basesalary                 0\n",
       "gender                     0\n",
       "Race                       0\n",
       "Education                  0\n",
       "dtype: int64"
      ]
     },
     "execution_count": 9,
     "metadata": {},
     "output_type": "execute_result"
    }
   ],
   "source": [
    "#Como obersvamos que los valores nulos se encuentran dentro de las columnas de tipo texto, les hacemos un filtro básico\n",
    "df_filtrado = df.fillna({'company':'No especificado','tag':'No especificado','gender':'No especificado','Race':'No especificado','Education':'No especificado',})\n",
    "df = df_filtrado\n",
    "df.isnull().sum()"
   ]
  },
  {
   "cell_type": "markdown",
   "metadata": {},
   "source": [
    "Detalle en la columna género"
   ]
  },
  {
   "cell_type": "code",
   "execution_count": 10,
   "metadata": {},
   "outputs": [
    {
     "data": {
      "text/plain": [
       "array(['No especificado', 'Male', 'Female', 'Other',\n",
       "       'Title: Senior Software Engineer'], dtype=object)"
      ]
     },
     "execution_count": 10,
     "metadata": {},
     "output_type": "execute_result"
    }
   ],
   "source": [
    "df.gender.unique() "
   ]
  },
  {
   "cell_type": "code",
   "execution_count": 11,
   "metadata": {},
   "outputs": [
    {
     "data": {
      "text/plain": [
       "array(['No especificado', 'Male', 'Female', 'Other'], dtype=object)"
      ]
     },
     "execution_count": 11,
     "metadata": {},
     "output_type": "execute_result"
    }
   ],
   "source": [
    "#Obervamos algo inusual dentro del género: \"Título: Ingeniero de software senior\", ¡¿Cómo?!\n",
    "#Establecemos que cuando haya algún dato que no sea \"Male o Female\" se guarden como \"Other\"\n",
    "df['gender'] = np.where(df['gender'].isin(['Male','Female','No especificado']), df['gender'], 'Other') \n",
    "\n",
    "df.gender.unique() #Verificamos"
   ]
  },
  {
   "cell_type": "markdown",
   "metadata": {},
   "source": [
    "Detalle con los nombres de las compañías"
   ]
  },
  {
   "cell_type": "code",
   "execution_count": 12,
   "metadata": {},
   "outputs": [
    {
     "data": {
      "text/plain": [
       "(1632, 0)"
      ]
     },
     "execution_count": 12,
     "metadata": {},
     "output_type": "execute_result"
    }
   ],
   "source": [
    "nom_company = pd.DataFrame(df.company.unique()).set_index(0)\n",
    "nom_company.shape"
   ]
  },
  {
   "cell_type": "code",
   "execution_count": 13,
   "metadata": {},
   "outputs": [
    {
     "data": {
      "text/html": [
       "<div>\n",
       "<style scoped>\n",
       "    .dataframe tbody tr th:only-of-type {\n",
       "        vertical-align: middle;\n",
       "    }\n",
       "\n",
       "    .dataframe tbody tr th {\n",
       "        vertical-align: top;\n",
       "    }\n",
       "\n",
       "    .dataframe thead th {\n",
       "        text-align: right;\n",
       "    }\n",
       "</style>\n",
       "<table border=\"1\" class=\"dataframe\">\n",
       "  <thead>\n",
       "    <tr style=\"text-align: right;\">\n",
       "      <th></th>\n",
       "      <th>Oracle</th>\n",
       "      <th>eBay</th>\n",
       "      <th>Amazon</th>\n",
       "      <th>Apple</th>\n",
       "      <th>Microsoft</th>\n",
       "      <th>Salesforce</th>\n",
       "      <th>Facebook</th>\n",
       "      <th>Uber</th>\n",
       "      <th>Oath</th>\n",
       "      <th>Google</th>\n",
       "      <th>Netflix</th>\n",
       "      <th>Pinterest</th>\n",
       "      <th>Linkedin</th>\n",
       "      <th>Adobe</th>\n",
       "      <th>LinkedIn</th>\n",
       "      <th>amazon</th>\n",
       "      <th>Symantec</th>\n",
       "      <th>Intel Corporation</th>\n",
       "      <th>Intel</th>\n",
       "      <th>Lyft</th>\n",
       "    </tr>\n",
       "  </thead>\n",
       "  <tbody>\n",
       "  </tbody>\n",
       "</table>\n",
       "</div>"
      ],
      "text/plain": [
       "Empty DataFrame\n",
       "Columns: [Oracle, eBay, Amazon, Apple, Microsoft, Salesforce, Facebook, Uber, Oath, Google, Netflix, Pinterest, Linkedin, Adobe, LinkedIn, amazon, Symantec, Intel Corporation, Intel, Lyft]\n",
       "Index: []"
      ]
     },
     "execution_count": 13,
     "metadata": {},
     "output_type": "execute_result"
    }
   ],
   "source": [
    "nom_company.head(20).T #Observaremos que algunos ingresaron la misma compañia con diferente tipeado\n",
    "#Por lo que trataremos de que más adelante al agruparlos no los cuenten por separado\n",
    "#Se oberva por un lado 'Amazon' y por otro 'amazon'\n",
    "#Psdta: en estos casos uso la transversa para que no me ocupe muchas líneas hacia abajo"
   ]
  },
  {
   "cell_type": "code",
   "execution_count": 14,
   "metadata": {},
   "outputs": [
    {
     "data": {
      "text/html": [
       "<div>\n",
       "<style scoped>\n",
       "    .dataframe tbody tr th:only-of-type {\n",
       "        vertical-align: middle;\n",
       "    }\n",
       "\n",
       "    .dataframe tbody tr th {\n",
       "        vertical-align: top;\n",
       "    }\n",
       "\n",
       "    .dataframe thead th {\n",
       "        text-align: right;\n",
       "    }\n",
       "</style>\n",
       "<table border=\"1\" class=\"dataframe\">\n",
       "  <thead>\n",
       "    <tr style=\"text-align: right;\">\n",
       "      <th></th>\n",
       "      <th>Google</th>\n",
       "      <th>IBM</th>\n",
       "      <th>ibm</th>\n",
       "      <th>GOogle</th>\n",
       "      <th>MSFT</th>\n",
       "    </tr>\n",
       "  </thead>\n",
       "  <tbody>\n",
       "  </tbody>\n",
       "</table>\n",
       "</div>"
      ],
      "text/plain": [
       "Empty DataFrame\n",
       "Columns: [Google, IBM, ibm, GOogle, MSFT]\n",
       "Index: []"
      ]
     },
     "execution_count": 14,
     "metadata": {},
     "output_type": "execute_result"
    }
   ],
   "source": [
    "nom_company.loc[['Google','IBM','ibm','GOogle','MSFT']].T  #Ejecutando este código obervaremos un ejemplo del bloque anterior"
   ]
  },
  {
   "cell_type": "code",
   "execution_count": 15,
   "metadata": {},
   "outputs": [
    {
     "data": {
      "text/plain": [
       "(1102,)"
      ]
     },
     "execution_count": 15,
     "metadata": {},
     "output_type": "execute_result"
    }
   ],
   "source": [
    "nom_company_mayus = df['company'].str.upper() #Convertimos todos los valores a mayúsculas\n",
    "nom_company_mayus.unique().shape #Comprobamos"
   ]
  },
  {
   "cell_type": "code",
   "execution_count": 16,
   "metadata": {},
   "outputs": [
    {
     "data": {
      "text/plain": [
       "(1102,)"
      ]
     },
     "execution_count": 16,
     "metadata": {},
     "output_type": "execute_result"
    }
   ],
   "source": [
    "df['company'] = np.asarray(df['company'].str.upper()) #Convertimos todos los valores en la data original a mayúsculas\n",
    "df['company'].unique().shape #Comprobamos que la cantidad coincida con la cantidad sacada en la prueba del bloque anterior"
   ]
  },
  {
   "cell_type": "code",
   "execution_count": 17,
   "metadata": {},
   "outputs": [],
   "source": [
    "#Gracias al detalle que observamos 3 bloques arriba, 'MSFT', lo cambiamos por 'Microsoft'\n",
    "df['company'] = df['company'].replace(to_replace='MSFT', value='MICROSOFT')"
   ]
  },
  {
   "cell_type": "code",
   "execution_count": 18,
   "metadata": {},
   "outputs": [],
   "source": [
    "#Hacemos un filtro para que las empresas que contengan las variables ingresadas se reemplazen por estas y\n",
    "#así evitar que se realicen conteos por separado al momento de realizar un análisis con los agrupamientos de columnas\n",
    "lista = ['INTEL','AMAZON','GOOGLE','APPLE','NETFLIX','MICROSOFT']\n",
    "for i in lista:\n",
    "    df['company'] = np.where(df['company'].str.contains(i), i, df['company'])"
   ]
  },
  {
   "cell_type": "code",
   "execution_count": 19,
   "metadata": {},
   "outputs": [
    {
     "data": {
      "text/plain": [
       "1094"
      ]
     },
     "execution_count": 19,
     "metadata": {},
     "output_type": "execute_result"
    }
   ],
   "source": [
    "df.company.nunique()"
   ]
  },
  {
   "cell_type": "code",
   "execution_count": 20,
   "metadata": {},
   "outputs": [],
   "source": [
    "#SI COMENTAMOS ESTAS 2 LINEAS COMPRORAREMOS QUE PRECISAMENTE SE REALIZARON LOS CAMBIOS\n",
    "#Psdt: Al ejecutar saldrá error, ya que no se encontrarán estos valores\n",
    "#ncom = pd.DataFrame(df.company.unique()).set_index(0)\n",
    "#ncom.loc[['Google','IBM','ibm','GOogle','MSFT']].T"
   ]
  },
  {
   "cell_type": "code",
   "execution_count": 21,
   "metadata": {},
   "outputs": [
    {
     "data": {
      "text/html": [
       "<div>\n",
       "<style scoped>\n",
       "    .dataframe tbody tr th:only-of-type {\n",
       "        vertical-align: middle;\n",
       "    }\n",
       "\n",
       "    .dataframe tbody tr th {\n",
       "        vertical-align: top;\n",
       "    }\n",
       "\n",
       "    .dataframe thead th {\n",
       "        text-align: right;\n",
       "    }\n",
       "</style>\n",
       "<table border=\"1\" class=\"dataframe\">\n",
       "  <thead>\n",
       "    <tr style=\"text-align: right;\">\n",
       "      <th></th>\n",
       "      <th>totalyearlycompensation</th>\n",
       "      <th>basesalary</th>\n",
       "    </tr>\n",
       "  </thead>\n",
       "  <tbody>\n",
       "    <tr>\n",
       "      <th>count</th>\n",
       "      <td>62642.00</td>\n",
       "      <td>62642.00</td>\n",
       "    </tr>\n",
       "    <tr>\n",
       "      <th>mean</th>\n",
       "      <td>216300.37</td>\n",
       "      <td>136687.28</td>\n",
       "    </tr>\n",
       "    <tr>\n",
       "      <th>std</th>\n",
       "      <td>138033.75</td>\n",
       "      <td>61369.28</td>\n",
       "    </tr>\n",
       "    <tr>\n",
       "      <th>min</th>\n",
       "      <td>10000.00</td>\n",
       "      <td>0.00</td>\n",
       "    </tr>\n",
       "    <tr>\n",
       "      <th>25%</th>\n",
       "      <td>135000.00</td>\n",
       "      <td>108000.00</td>\n",
       "    </tr>\n",
       "    <tr>\n",
       "      <th>50%</th>\n",
       "      <td>188000.00</td>\n",
       "      <td>140000.00</td>\n",
       "    </tr>\n",
       "    <tr>\n",
       "      <th>75%</th>\n",
       "      <td>264000.00</td>\n",
       "      <td>170000.00</td>\n",
       "    </tr>\n",
       "    <tr>\n",
       "      <th>max</th>\n",
       "      <td>4980000.00</td>\n",
       "      <td>1659870.00</td>\n",
       "    </tr>\n",
       "  </tbody>\n",
       "</table>\n",
       "</div>"
      ],
      "text/plain": [
       "       totalyearlycompensation  basesalary\n",
       "count                 62642.00    62642.00\n",
       "mean                 216300.37   136687.28\n",
       "std                  138033.75    61369.28\n",
       "min                   10000.00        0.00\n",
       "25%                  135000.00   108000.00\n",
       "50%                  188000.00   140000.00\n",
       "75%                  264000.00   170000.00\n",
       "max                 4980000.00  1659870.00"
      ]
     },
     "execution_count": 21,
     "metadata": {},
     "output_type": "execute_result"
    }
   ],
   "source": [
    "df.describe().round(2)"
   ]
  },
  {
   "cell_type": "markdown",
   "metadata": {},
   "source": [
    "Observación en la columna 'basesalary'"
   ]
  },
  {
   "cell_type": "code",
   "execution_count": 22,
   "metadata": {},
   "outputs": [
    {
     "data": {
      "text/plain": [
       "13824"
      ]
     },
     "execution_count": 22,
     "metadata": {},
     "output_type": "execute_result"
    }
   ],
   "source": [
    "#Observamos que hay demasiados puestos con oferta de trabajo sin salario base\n",
    "df[df['basesalary']==0].size"
   ]
  },
  {
   "cell_type": "code",
   "execution_count": 23,
   "metadata": {},
   "outputs": [],
   "source": [
    "#Reemplazamos los valores ingresados como 0 por el promedio de la columna\n",
    "df['basesalary'].replace(0, np.mean(df['basesalary']), inplace=True)"
   ]
  },
  {
   "cell_type": "code",
   "execution_count": 24,
   "metadata": {},
   "outputs": [
    {
     "data": {
      "text/plain": [
       "0"
      ]
     },
     "execution_count": 24,
     "metadata": {},
     "output_type": "execute_result"
    }
   ],
   "source": [
    "df[df['basesalary'] == 0].size #Corroboramos"
   ]
  },
  {
   "cell_type": "markdown",
   "metadata": {},
   "source": [
    "Outliers"
   ]
  },
  {
   "cell_type": "code",
   "execution_count": 25,
   "metadata": {},
   "outputs": [
    {
     "data": {
      "text/plain": [
       "<AxesSubplot:>"
      ]
     },
     "execution_count": 25,
     "metadata": {},
     "output_type": "execute_result"
    },
    {
     "data": {
      "image/png": "[encoded data removed]",
      "text/plain": [
       "<Figure size 432x288 with 1 Axes>"
      ]
     },
     "metadata": {
      "needs_background": "light"
     },
     "output_type": "display_data"
    }
   ],
   "source": [
    "#Se observa un sesgo en cuanto a la recolección de datos, contamos con demasiados valores atípicos\n",
    "df.boxplot('totalyearlycompensation')"
   ]
  },
  {
   "cell_type": "code",
   "execution_count": 26,
   "metadata": {},
   "outputs": [
    {
     "name": "stderr",
     "output_type": "stream",
     "text": [
      "C:\\Users\\Administrador\\AppData\\Local\\Temp\\ipykernel_10768\\3547905242.py:5: FutureWarning: Automatic reindexing on DataFrame vs Series comparisons is deprecated and will raise ValueError in a future version. Do `left, right = left.align(right, axis=1, copy=False)` before e.g. `left == right`\n",
      "  df = df[~((df <(Q1 -1.5* IQR))|(df >(Q3 +1.5* IQR))).any(axis=1)]\n"
     ]
    }
   ],
   "source": [
    "Q1 = df.quantile(0.25)\n",
    "Q3 = df.quantile(0.75)\n",
    "IQR = Q3 - Q1\n",
    "\n",
    "df = df[~((df <(Q1 -1.5* IQR))|(df >(Q3 +1.5* IQR))).any(axis=1)]"
   ]
  },
  {
   "cell_type": "code",
   "execution_count": 27,
   "metadata": {},
   "outputs": [
    {
     "data": {
      "text/plain": [
       "<AxesSubplot:>"
      ]
     },
     "execution_count": 27,
     "metadata": {},
     "output_type": "execute_result"
    },
    {
     "data": {
      "image/png": "[encoded data removed]",
      "text/plain": [
       "<Figure size 432x288 with 1 Axes>"
      ]
     },
     "metadata": {
      "needs_background": "light"
     },
     "output_type": "display_data"
    }
   ],
   "source": [
    "df.boxplot('totalyearlycompensation') #Comprobando la actualización con la eliminación de outliers"
   ]
  },
  {
   "cell_type": "code",
   "execution_count": 28,
   "metadata": {},
   "outputs": [
    {
     "name": "stderr",
     "output_type": "stream",
     "text": [
      "Summarize dataset: 100%|██████████| 35/35 [00:00<00:00, 50.83it/s, Completed]                                \n",
      "Generate report structure: 100%|██████████| 1/1 [00:05<00:00,  5.04s/it]\n",
      "Render HTML: 100%|██████████| 1/1 [00:00<00:00,  1.79it/s]\n",
      "Export report to file: 100%|██████████| 1/1 [00:00<00:00, 199.83it/s]\n"
     ]
    }
   ],
   "source": [
    "#Generando un reporte de la data procesada\n",
    "profile_l = pp.ProfileReport(df_salary, title='Pandas Profiling Report', minimal=True)\n",
    "profile_l.to_file('../data/reports/Clean_data.html')"
   ]
  },
  {
   "cell_type": "code",
   "execution_count": 29,
   "metadata": {},
   "outputs": [],
   "source": [
    "df.to_csv('../data/Data_limpia.csv',index = False) #Guardando la data procesada"
   ]
  },
  {
   "cell_type": "markdown",
   "metadata": {},
   "source": [
    "# "
   ]
  }
 ],
 "metadata": {
  "interpreter": {
   "hash": "bbe86199946d6289c641ea8ccb62c5f8cf7d09c575ca05e3a02fa309c1259887"
  },
  "kernelspec": {
   "display_name": "Python 3.10.2 ('env': venv)",
   "language": "python",
   "name": "python3"
  },
  "language_info": {
   "codemirror_mode": {
    "name": "ipython",
    "version": 3
   },
   "file_extension": ".py",
   "mimetype": "text/x-python",
   "name": "python",
   "nbconvert_exporter": "python",
   "pygments_lexer": "ipython3",
   "version": "3.10.2"
  },
  "orig_nbformat": 4
 },
 "nbformat": 4,
 "nbformat_minor": 2
}
