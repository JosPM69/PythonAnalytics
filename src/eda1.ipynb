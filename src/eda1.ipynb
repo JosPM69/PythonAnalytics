{
 "cells": [
  {
   "cell_type": "code",
   "execution_count": 1,
   "metadata": {},
   "outputs": [],
   "source": [
    "import pandas as pd\n",
    "import numpy as np\n",
    "import matplotlib.pyplot as plt\n",
    "import seaborn as sns\n",
    "import pandas_profiling as pp"
   ]
  },
  {
   "cell_type": "code",
   "execution_count": 2,
   "metadata": {},
   "outputs": [],
   "source": [
    "#Como trabajamos con Visual, esta línea imprime los gráficos\n",
    "%matplotlib inline"
   ]
  },
  {
   "cell_type": "code",
   "execution_count": 3,
   "metadata": {},
   "outputs": [
    {
     "data": {
      "text/plain": [
       "Index(['company', 'totalyearlycompensation', 'basesalary', 'gender', 'Race',\n",
       "       'Education'],\n",
       "      dtype='object')"
      ]
     },
     "execution_count": 3,
     "metadata": {},
     "output_type": "execute_result"
    }
   ],
   "source": [
    "df = pd.read_csv(\"../data/Data_limpia.csv\")\n",
    "df.columns"
   ]
  },
  {
   "cell_type": "markdown",
   "metadata": {},
   "source": [
    "## Análisis exploratorio de datos (EDA)"
   ]
  },
  {
   "cell_type": "markdown",
   "metadata": {},
   "source": [
    "#### Preguntas de exploración"
   ]
  },
  {
   "cell_type": "markdown",
   "metadata": {},
   "source": [
    "1. Valores que influyen en los salarios de los profesionales\n",
    "* ¿Cuánto es el salario anual promedio de acuerdo al género?\n",
    "* ¿Cuánto es el salario anual promedio de acuerdo al nivel de educación?\n",
    "* ¿Cuánto es el salario anual promedio de acuerdo a la empresa donde se labora?\n",
    "\n",
    "2. Valores que influyen en el porcentaje de participación de estos profesionales\n",
    "* ¿Qué % de estos profesionales son de la raza?\n",
    "* ¿Qué % de las personas que laboran en este rubro cuentan con educación profesional?\n",
    "* ¿Qué % de estos profesionales cuentan con bachillerato?"
   ]
  },
  {
   "cell_type": "markdown",
   "metadata": {},
   "source": [
    "#### 1. Valores que ingluyen en los salarios"
   ]
  },
  {
   "cell_type": "code",
   "execution_count": 4,
   "metadata": {},
   "outputs": [
    {
     "data": {
      "text/html": [
       "<div>\n",
       "<style scoped>\n",
       "    .dataframe tbody tr th:only-of-type {\n",
       "        vertical-align: middle;\n",
       "    }\n",
       "\n",
       "    .dataframe tbody tr th {\n",
       "        vertical-align: top;\n",
       "    }\n",
       "\n",
       "    .dataframe thead th {\n",
       "        text-align: right;\n",
       "    }\n",
       "</style>\n",
       "<table border=\"1\" class=\"dataframe\">\n",
       "  <thead>\n",
       "    <tr style=\"text-align: right;\">\n",
       "      <th></th>\n",
       "      <th>totalyearlycompensation</th>\n",
       "      <th>basesalary</th>\n",
       "    </tr>\n",
       "    <tr>\n",
       "      <th>gender</th>\n",
       "      <th></th>\n",
       "      <th></th>\n",
       "    </tr>\n",
       "  </thead>\n",
       "  <tbody>\n",
       "    <tr>\n",
       "      <th>Female</th>\n",
       "      <td>185895.749441</td>\n",
       "      <td>134213.031987</td>\n",
       "    </tr>\n",
       "    <tr>\n",
       "      <th>Male</th>\n",
       "      <td>194477.590499</td>\n",
       "      <td>135454.572479</td>\n",
       "    </tr>\n",
       "    <tr>\n",
       "      <th>No especificado</th>\n",
       "      <td>205336.066936</td>\n",
       "      <td>141187.041925</td>\n",
       "    </tr>\n",
       "    <tr>\n",
       "      <th>Other</th>\n",
       "      <td>205506.811989</td>\n",
       "      <td>141060.441505</td>\n",
       "    </tr>\n",
       "  </tbody>\n",
       "</table>\n",
       "</div>"
      ],
      "text/plain": [
       "                 totalyearlycompensation     basesalary\n",
       "gender                                                 \n",
       "Female                     185895.749441  134213.031987\n",
       "Male                       194477.590499  135454.572479\n",
       "No especificado            205336.066936  141187.041925\n",
       "Other                      205506.811989  141060.441505"
      ]
     },
     "execution_count": 4,
     "metadata": {},
     "output_type": "execute_result"
    }
   ],
   "source": [
    "#Según el género\n",
    "df_gender = df.groupby('gender').agg({\"totalyearlycompensation\":\"mean\", \"basesalary\":\"mean\"})\n",
    "df_gender"
   ]
  },
  {
   "cell_type": "code",
   "execution_count": 5,
   "metadata": {},
   "outputs": [
    {
     "data": {
      "image/png": "[encoded data removed]",
      "text/plain": [
       "<Figure size 432x288 with 1 Axes>"
      ]
     },
     "metadata": {
      "needs_background": "light"
     },
     "output_type": "display_data"
    }
   ],
   "source": [
    "df_gender.loc[['Male','Female']].plot.barh(title = 'Salario promedio según el sexo').grid()"
   ]
  },
  {
   "cell_type": "markdown",
   "metadata": {},
   "source": [
    "Se observa, gracias al gráfico, cómo en este rubro no existe un sesgo que afecte los promedios del salario base ni la suma anual de los profesionales masculinos y femeninos"
   ]
  },
  {
   "cell_type": "code",
   "execution_count": 6,
   "metadata": {},
   "outputs": [
    {
     "data": {
      "text/html": [
       "<div>\n",
       "<style scoped>\n",
       "    .dataframe tbody tr th:only-of-type {\n",
       "        vertical-align: middle;\n",
       "    }\n",
       "\n",
       "    .dataframe tbody tr th {\n",
       "        vertical-align: top;\n",
       "    }\n",
       "\n",
       "    .dataframe thead th {\n",
       "        text-align: right;\n",
       "    }\n",
       "</style>\n",
       "<table border=\"1\" class=\"dataframe\">\n",
       "  <thead>\n",
       "    <tr style=\"text-align: right;\">\n",
       "      <th></th>\n",
       "      <th>totalyearlycompensation</th>\n",
       "      <th>basesalary</th>\n",
       "    </tr>\n",
       "    <tr>\n",
       "      <th>Education</th>\n",
       "      <th></th>\n",
       "      <th></th>\n",
       "    </tr>\n",
       "  </thead>\n",
       "  <tbody>\n",
       "    <tr>\n",
       "      <th>Bachelor's Degree</th>\n",
       "      <td>170375.245412</td>\n",
       "      <td>123389.756722</td>\n",
       "    </tr>\n",
       "    <tr>\n",
       "      <th>Highschool</th>\n",
       "      <td>175760.000000</td>\n",
       "      <td>124990.000000</td>\n",
       "    </tr>\n",
       "    <tr>\n",
       "      <th>Master's Degree</th>\n",
       "      <td>201819.621128</td>\n",
       "      <td>140738.639884</td>\n",
       "    </tr>\n",
       "    <tr>\n",
       "      <th>No especificado</th>\n",
       "      <td>202671.897109</td>\n",
       "      <td>139716.924945</td>\n",
       "    </tr>\n",
       "    <tr>\n",
       "      <th>PhD</th>\n",
       "      <td>248694.014795</td>\n",
       "      <td>160766.644250</td>\n",
       "    </tr>\n",
       "    <tr>\n",
       "      <th>Some College</th>\n",
       "      <td>188984.939759</td>\n",
       "      <td>135222.891566</td>\n",
       "    </tr>\n",
       "  </tbody>\n",
       "</table>\n",
       "</div>"
      ],
      "text/plain": [
       "                   totalyearlycompensation     basesalary\n",
       "Education                                                \n",
       "Bachelor's Degree            170375.245412  123389.756722\n",
       "Highschool                   175760.000000  124990.000000\n",
       "Master's Degree              201819.621128  140738.639884\n",
       "No especificado              202671.897109  139716.924945\n",
       "PhD                          248694.014795  160766.644250\n",
       "Some College                 188984.939759  135222.891566"
      ]
     },
     "execution_count": 6,
     "metadata": {},
     "output_type": "execute_result"
    }
   ],
   "source": [
    "#Según el nivel de educación\n",
    "df_education = df.groupby('Education').agg({\"totalyearlycompensation\":\"mean\", \"basesalary\":\"mean\"})\n",
    "df_education"
   ]
  },
  {
   "cell_type": "code",
   "execution_count": 7,
   "metadata": {},
   "outputs": [
    {
     "data": {
      "image/png": "[encoded data removed]",
      "text/plain": [
       "<Figure size 432x288 with 1 Axes>"
      ]
     },
     "metadata": {
      "needs_background": "light"
     },
     "output_type": "display_data"
    }
   ],
   "source": [
    "df_education.iloc[[0,1,2,4,5]].plot.bar(title = 'Salario promedio según su nivel de educación').grid()"
   ]
  },
  {
   "cell_type": "code",
   "execution_count": 8,
   "metadata": {},
   "outputs": [],
   "source": [
    "#Según la empresa\n",
    "df_empresa = df.groupby('company').agg({\"totalyearlycompensation\":\"mean\", \"basesalary\":\"mean\"})\n",
    "top_15_empresa = df_empresa.sort_values(by=['totalyearlycompensation'],ascending = False).head(15)"
   ]
  },
  {
   "cell_type": "code",
   "execution_count": 9,
   "metadata": {},
   "outputs": [
    {
     "data": {
      "text/html": [
       "<div>\n",
       "<style scoped>\n",
       "    .dataframe tbody tr th:only-of-type {\n",
       "        vertical-align: middle;\n",
       "    }\n",
       "\n",
       "    .dataframe tbody tr th {\n",
       "        vertical-align: top;\n",
       "    }\n",
       "\n",
       "    .dataframe thead th {\n",
       "        text-align: right;\n",
       "    }\n",
       "</style>\n",
       "<table border=\"1\" class=\"dataframe\">\n",
       "  <thead>\n",
       "    <tr style=\"text-align: right;\">\n",
       "      <th></th>\n",
       "      <th>totalyearlycompensation</th>\n",
       "      <th>basesalary</th>\n",
       "    </tr>\n",
       "    <tr>\n",
       "      <th>company</th>\n",
       "      <th></th>\n",
       "      <th></th>\n",
       "    </tr>\n",
       "  </thead>\n",
       "  <tbody>\n",
       "    <tr>\n",
       "      <th>PDT PARTNERS</th>\n",
       "      <td>350000.000000</td>\n",
       "      <td>207500.000000</td>\n",
       "    </tr>\n",
       "    <tr>\n",
       "      <th>JANE STREET CAPITAL</th>\n",
       "      <td>350000.000000</td>\n",
       "      <td>195000.000000</td>\n",
       "    </tr>\n",
       "    <tr>\n",
       "      <th>CLOUDKITCHENS</th>\n",
       "      <td>345000.000000</td>\n",
       "      <td>180000.000000</td>\n",
       "    </tr>\n",
       "    <tr>\n",
       "      <th>HUDSON RIVER TRADING</th>\n",
       "      <td>323500.000000</td>\n",
       "      <td>182000.000000</td>\n",
       "    </tr>\n",
       "    <tr>\n",
       "      <th>AURORA</th>\n",
       "      <td>316714.285714</td>\n",
       "      <td>188857.142857</td>\n",
       "    </tr>\n",
       "    <tr>\n",
       "      <th>LYFT</th>\n",
       "      <td>313969.696970</td>\n",
       "      <td>168651.267640</td>\n",
       "    </tr>\n",
       "    <tr>\n",
       "      <th>CHIME</th>\n",
       "      <td>311750.000000</td>\n",
       "      <td>182550.000000</td>\n",
       "    </tr>\n",
       "    <tr>\n",
       "      <th>WAYMO</th>\n",
       "      <td>301367.346939</td>\n",
       "      <td>177279.332271</td>\n",
       "    </tr>\n",
       "    <tr>\n",
       "      <th>JANE STREET</th>\n",
       "      <td>300714.285714</td>\n",
       "      <td>171142.857143</td>\n",
       "    </tr>\n",
       "    <tr>\n",
       "      <th>AIRBNB</th>\n",
       "      <td>300204.545455</td>\n",
       "      <td>169834.504619</td>\n",
       "    </tr>\n",
       "    <tr>\n",
       "      <th>UIPATH</th>\n",
       "      <td>300157.894737</td>\n",
       "      <td>167000.000000</td>\n",
       "    </tr>\n",
       "    <tr>\n",
       "      <th>SNOWFLAKE</th>\n",
       "      <td>299666.666667</td>\n",
       "      <td>168045.818753</td>\n",
       "    </tr>\n",
       "    <tr>\n",
       "      <th>CITADEL</th>\n",
       "      <td>299651.162791</td>\n",
       "      <td>167906.976744</td>\n",
       "    </tr>\n",
       "    <tr>\n",
       "      <th>8X8</th>\n",
       "      <td>296571.428571</td>\n",
       "      <td>176428.571429</td>\n",
       "    </tr>\n",
       "    <tr>\n",
       "      <th>NETFLIX</th>\n",
       "      <td>293857.142857</td>\n",
       "      <td>173437.406270</td>\n",
       "    </tr>\n",
       "  </tbody>\n",
       "</table>\n",
       "</div>"
      ],
      "text/plain": [
       "                      totalyearlycompensation     basesalary\n",
       "company                                                     \n",
       "PDT PARTNERS                    350000.000000  207500.000000\n",
       "JANE STREET CAPITAL             350000.000000  195000.000000\n",
       "CLOUDKITCHENS                   345000.000000  180000.000000\n",
       "HUDSON RIVER TRADING            323500.000000  182000.000000\n",
       "AURORA                          316714.285714  188857.142857\n",
       "LYFT                            313969.696970  168651.267640\n",
       "CHIME                           311750.000000  182550.000000\n",
       "WAYMO                           301367.346939  177279.332271\n",
       "JANE STREET                     300714.285714  171142.857143\n",
       "AIRBNB                          300204.545455  169834.504619\n",
       "UIPATH                          300157.894737  167000.000000\n",
       "SNOWFLAKE                       299666.666667  168045.818753\n",
       "CITADEL                         299651.162791  167906.976744\n",
       "8X8                             296571.428571  176428.571429\n",
       "NETFLIX                         293857.142857  173437.406270"
      ]
     },
     "execution_count": 9,
     "metadata": {},
     "output_type": "execute_result"
    }
   ],
   "source": [
    "top_15_empresa"
   ]
  },
  {
   "cell_type": "code",
   "execution_count": 10,
   "metadata": {},
   "outputs": [
    {
     "data": {
      "image/png": "[encoded data removed]",
      "text/plain": [
       "<Figure size 1080x288 with 1 Axes>"
      ]
     },
     "metadata": {
      "needs_background": "light"
     },
     "output_type": "display_data"
    }
   ],
   "source": [
    "#Top 15 de empresas que más pagan en este rubro\n",
    "top_15_empresa.plot.line(figsize = (15, 4), title = 'Top de empresas que más salario anual ofrecen').grid()"
   ]
  },
  {
   "cell_type": "markdown",
   "metadata": {},
   "source": [
    "Visualizamos que las empresas más conocidas no lideran la cabeza en cuanto a oferta salarial se refiere"
   ]
  },
  {
   "cell_type": "markdown",
   "metadata": {},
   "source": [
    "#### 2. Valores que influyen en el porcentaje de participación de estos profesionales"
   ]
  },
  {
   "cell_type": "code",
   "execution_count": 11,
   "metadata": {},
   "outputs": [
    {
     "data": {
      "text/plain": [
       "No especificado    37335\n",
       "Asian              10851\n",
       "White               7570\n",
       "Hispanic            1074\n",
       "Two Or More          757\n",
       "Black                665\n",
       "Name: Race, dtype: int64"
      ]
     },
     "execution_count": 11,
     "metadata": {},
     "output_type": "execute_result"
    }
   ],
   "source": [
    "#Por raza\n",
    "x_raza = df['Race'].value_counts()\n",
    "x_raza"
   ]
  },
  {
   "cell_type": "code",
   "execution_count": 12,
   "metadata": {},
   "outputs": [
    {
     "data": {
      "text/plain": [
       "<AxesSubplot:ylabel='Race'>"
      ]
     },
     "execution_count": 12,
     "metadata": {},
     "output_type": "execute_result"
    },
    {
     "data": {
      "image/png": "[encoded data removed]",
      "text/plain": [
       "<Figure size 720x360 with 1 Axes>"
      ]
     },
     "metadata": {},
     "output_type": "display_data"
    }
   ],
   "source": [
    "x_raza.iloc[1:6].plot.pie(autopct=\"%0.2f %%\", figsize = (10,5))"
   ]
  },
  {
   "cell_type": "markdown",
   "metadata": {},
   "source": [
    "El grafico muestra el porcentaje de participacion de los profesionales en Data Science segun su raza, observamos que las personas de raza asiatica tienen una mayor participacion como profesionales de Data Science con 52.59% seguido de la raza blanca con 35.33% y las demas raza con porcentajes de participacion pequeños. Suponiendo que no existe sesgo racial al momento de contratar, estos datos signican que las personas de las razas asiatica y blanca son las que tienen mas interes en estudiar Data Science."
   ]
  },
  {
   "cell_type": "code",
   "execution_count": 13,
   "metadata": {},
   "outputs": [
    {
     "data": {
      "text/html": [
       "<div>\n",
       "<style scoped>\n",
       "    .dataframe tbody tr th:only-of-type {\n",
       "        vertical-align: middle;\n",
       "    }\n",
       "\n",
       "    .dataframe tbody tr th {\n",
       "        vertical-align: top;\n",
       "    }\n",
       "\n",
       "    .dataframe thead th {\n",
       "        text-align: right;\n",
       "    }\n",
       "</style>\n",
       "<table border=\"1\" class=\"dataframe\">\n",
       "  <thead>\n",
       "    <tr style=\"text-align: right;\">\n",
       "      <th></th>\n",
       "      <th>Genero</th>\n",
       "      <th>Cantidad</th>\n",
       "    </tr>\n",
       "  </thead>\n",
       "  <tbody>\n",
       "    <tr>\n",
       "      <th>0</th>\n",
       "      <td>Male</td>\n",
       "      <td>33133</td>\n",
       "    </tr>\n",
       "    <tr>\n",
       "      <th>2</th>\n",
       "      <td>Female</td>\n",
       "      <td>6705</td>\n",
       "    </tr>\n",
       "    <tr>\n",
       "      <th>3</th>\n",
       "      <td>Other</td>\n",
       "      <td>367</td>\n",
       "    </tr>\n",
       "  </tbody>\n",
       "</table>\n",
       "</div>"
      ],
      "text/plain": [
       "   Genero  Cantidad\n",
       "0    Male     33133\n",
       "2  Female      6705\n",
       "3   Other       367"
      ]
     },
     "execution_count": 13,
     "metadata": {},
     "output_type": "execute_result"
    }
   ],
   "source": [
    "#Por género\n",
    "df_part_gender = df['gender'].value_counts().reset_index().rename(columns={'index':'Genero','gender':'Cantidad'}).drop(1)\n",
    "df_part_gender"
   ]
  },
  {
   "cell_type": "code",
   "execution_count": 14,
   "metadata": {},
   "outputs": [
    {
     "data": {
      "image/png": "[encoded data removed]",
      "text/plain": [
       "<Figure size 1008x504 with 1 Axes>"
      ]
     },
     "metadata": {
      "needs_background": "light"
     },
     "output_type": "display_data"
    }
   ],
   "source": [
    "plt.figure(figsize=(14,7))\n",
    "plt.xticks(rotation=90)\n",
    "plt.title(\"Participacion segun sexo\")\n",
    "sns.barplot(x='Cantidad',y='Genero', data=df_part_gender)\n",
    "plt.show()"
   ]
  },
  {
   "cell_type": "markdown",
   "metadata": {},
   "source": [
    "El grafico muestra la cantidad de participacion de los profesionales en Data Science segun su genero, observamos que los hombres tienen una mayor participacion como profesionales de Data Science con 29754 profesionales. Suponiendo que no existe sesgo de genero al momento de contratar, estos datos signican que los hombres tienen mas interes en estudiar Data Science."
   ]
  },
  {
   "cell_type": "code",
   "execution_count": 15,
   "metadata": {},
   "outputs": [
    {
     "data": {
      "text/html": [
       "<div>\n",
       "<style scoped>\n",
       "    .dataframe tbody tr th:only-of-type {\n",
       "        vertical-align: middle;\n",
       "    }\n",
       "\n",
       "    .dataframe tbody tr th {\n",
       "        vertical-align: top;\n",
       "    }\n",
       "\n",
       "    .dataframe thead th {\n",
       "        text-align: right;\n",
       "    }\n",
       "</style>\n",
       "<table border=\"1\" class=\"dataframe\">\n",
       "  <thead>\n",
       "    <tr style=\"text-align: right;\">\n",
       "      <th></th>\n",
       "      <th>Título</th>\n",
       "      <th>Cantidad</th>\n",
       "    </tr>\n",
       "  </thead>\n",
       "  <tbody>\n",
       "    <tr>\n",
       "      <th>1</th>\n",
       "      <td>Master's Degree</td>\n",
       "      <td>14464</td>\n",
       "    </tr>\n",
       "    <tr>\n",
       "      <th>2</th>\n",
       "      <td>Bachelor's Degree</td>\n",
       "      <td>11715</td>\n",
       "    </tr>\n",
       "    <tr>\n",
       "      <th>3</th>\n",
       "      <td>PhD</td>\n",
       "      <td>1487</td>\n",
       "    </tr>\n",
       "    <tr>\n",
       "      <th>4</th>\n",
       "      <td>Some College</td>\n",
       "      <td>332</td>\n",
       "    </tr>\n",
       "    <tr>\n",
       "      <th>5</th>\n",
       "      <td>Highschool</td>\n",
       "      <td>300</td>\n",
       "    </tr>\n",
       "  </tbody>\n",
       "</table>\n",
       "</div>"
      ],
      "text/plain": [
       "              Título  Cantidad\n",
       "1    Master's Degree     14464\n",
       "2  Bachelor's Degree     11715\n",
       "3                PhD      1487\n",
       "4       Some College       332\n",
       "5         Highschool       300"
      ]
     },
     "execution_count": 15,
     "metadata": {},
     "output_type": "execute_result"
    }
   ],
   "source": [
    "#Por educación\n",
    "part_educacion = df[\"Education\"].value_counts().reset_index().rename(columns={'index':'Título','Education':'Cantidad'}).drop(0)\n",
    "part_educacion"
   ]
  },
  {
   "cell_type": "code",
   "execution_count": 16,
   "metadata": {},
   "outputs": [
    {
     "data": {
      "image/png": "[encoded data removed]",
      "text/plain": [
       "<Figure size 1008x504 with 1 Axes>"
      ]
     },
     "metadata": {
      "needs_background": "light"
     },
     "output_type": "display_data"
    }
   ],
   "source": [
    "plt.figure(figsize=(14,7))\n",
    "plt.xticks(rotation=90)\n",
    "plt.title(\"Participacion segun Educación\")\n",
    "sns.barplot(x='Título',y='Cantidad',data=part_educacion)\n",
    "plt.show()"
   ]
  },
  {
   "cell_type": "markdown",
   "metadata": {},
   "source": [
    "El grafico muestra la escala de participacion de los profesionales en Data Science segun su nivel de educación, observamos que las personas con título de maestria tienen una mayor participacion como profesionales de Data Science con 12976 profesionales seguido de personas con el titulo de bachiller y los demas titulos con cantidades de participacion pequeños. Esto significa que el titulo profesional es determinante a la hora de contratar a una persona en el area de Data Science."
   ]
  },
  {
   "cell_type": "markdown",
   "metadata": {},
   "source": [
    "Y relacionando al gráfico que obtuvimos en la primera parte del análisis (Salario promedio por nivel de educación) deducimos que por la poca cantidad de profesionales que hay con este nivel de educación (PhD) las empresas les otorgan un salario más elevado a comparación profesionales con menor nivel y que son más abundantes en el mercado laboral."
   ]
  }
 ],
 "metadata": {
  "interpreter": {
   "hash": "bbe86199946d6289c641ea8ccb62c5f8cf7d09c575ca05e3a02fa309c1259887"
  },
  "kernelspec": {
   "display_name": "Python 3.10.2 ('env': venv)",
   "language": "python",
   "name": "python3"
  },
  "language_info": {
   "codemirror_mode": {
    "name": "ipython",
    "version": 3
   },
   "file_extension": ".py",
   "mimetype": "text/x-python",
   "name": "python",
   "nbconvert_exporter": "python",
   "pygments_lexer": "ipython3",
   "version": "3.10.2"
  },
  "orig_nbformat": 4
 },
 "nbformat": 4,
 "nbformat_minor": 2
}
